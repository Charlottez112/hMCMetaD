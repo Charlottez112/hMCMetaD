{
 "cells": [
  {
   "cell_type": "code",
   "execution_count": 1,
   "id": "77bc7639-7f5d-47fe-8b17-2e5809f2a2c9",
   "metadata": {},
   "outputs": [],
   "source": [
    "from hmcmetad import hMCMetaD\n",
    "import numpy as np\n",
    "import hoomd\n",
    "from hoomd import md\n",
    "import coxeter"
   ]
  },
  {
   "cell_type": "code",
   "execution_count": 2,
   "id": "d2b0b598-2b81-48a5-bb40-77f55c38ec11",
   "metadata": {},
   "outputs": [],
   "source": [
    "# Define shape\n",
    "name = 'bipyramid'\n",
    "n = 6 # n: number of center pyramid vertices\n",
    "aspect = 1.12 # apsect: aspect ratio of the dipyramid\n",
    "vertices = []\n",
    "\n",
    "base_ngon = np.array(\n",
    "    [[np.cos(i * 2 * np.pi / n),\n",
    "    np.sin(i * 2 * np.pi / n), 0] for i in np.linspace(0, int(n-1), int(n))])\n",
    "ngon = coxeter.shapes.ConvexPolygon(base_ngon)\n",
    "\n",
    "vertices.extend(base_ngon)\n",
    "\n",
    "h = ngon.circumcircle.radius * aspect\n",
    "vertices.extend(np.array([[0, 0, h]]))\n",
    "vertices.extend(np.array([[0, 0, -h]]))\n",
    "shape = coxeter.shapes.ConvexPolyhedron(vertices)\n",
    "shape.volume = 1.\n",
    "verts = shape.vertices.tolist()\n",
    "mass = 1\n",
    "inertia = np.diagonal(shape.inertia_tensor) * mass\n",
    "r_in = shape.maximal_centered_bounded_sphere.radius\n",
    "r_circum = shape.minimal_centered_bounding_sphere.radius"
   ]
  },
  {
   "cell_type": "code",
   "execution_count": 3,
   "id": "a40bf495-51f8-4b22-9b81-fc396fd5d26b",
   "metadata": {},
   "outputs": [],
   "source": [
    "# Define simulation parameters\n",
    "final_pf = 0.36\n",
    "run_params = dict(N_random = 2e5, N_compress = 2e5, N_eq = 2e7)\n",
    "fname = f'{name}_pf_{final_pf}'"
   ]
  },
  {
   "cell_type": "code",
   "execution_count": 4,
   "id": "e3095212-569b-4ab1-b65c-4824999fc4ee",
   "metadata": {},
   "outputs": [],
   "source": [
    "cpu = hoomd.device.CPU(notice_level=2)\n",
    "seed = int(np.genfromtxt(f'./data/output_{fname}.txt', usecols=2)[-1])\n",
    "sim = hoomd.Simulation(device=cpu, seed=seed)\n",
    "sim.create_state_from_gsd(filename=f'./data/restart_{fname}.gsd')\n",
    "\n",
    "kT = 1.0\n",
    "dt = 0.0005\n",
    "integrator = md.Integrator(dt=dt)\n",
    "nl = md.nlist.Cell(buffer=0.4)\n",
    "\n",
    "# Define ALJ parameters\n",
    "sigma = 2.0 * r_in\n",
    "r_cut = 2.0*r_circum + 0.15*sigma\n",
    "alj = md.pair.aniso.ALJ(nl)\n",
    "alj.r_cut[(name, name)] = r_cut\n",
    "alj.params[(name, name)] = dict(epsilon=0.1,\n",
    "                                sigma_i=sigma,\n",
    "                                sigma_j=sigma,\n",
    "                                alpha=0)\n",
    "\n",
    "alj.shape[name] = dict(vertices=verts,\n",
    "                       faces=shape.faces, rounding_radii=0)\n",
    "\n",
    "integrator.forces.append(alj)\n",
    "\n",
    "tau = 100*dt\n",
    "bussi = md.methods.thermostats.Bussi(kT=kT, tau=tau)\n",
    "nvt = md.methods.ConstantVolume(filter=hoomd.filter.All(), thermostat=bussi)\n",
    "\n",
    "integrator.methods.append(nvt)\n",
    "integrator.integrate_rotational_dof = True\n",
    "sim.operations.integrator = integrator\n",
    "\n",
    "\n",
    "sim.state.thermalize_particle_momenta(filter=hoomd.filter.All(), kT=kT)\n",
    "thermodynamic_properties = md.compute.ThermodynamicQuantities(\n",
    "    filter=hoomd.filter.All())\n",
    "sim.operations.computes.append(thermodynamic_properties)\n",
    "sim.run(0)"
   ]
  },
  {
   "cell_type": "code",
   "execution_count": 7,
   "id": "49e30143-b301-462c-aab4-02f683b7caa3",
   "metadata": {},
   "outputs": [],
   "source": [
    "log_period = 5e4\n",
    "table_logger = hoomd.logging.Logger(categories=['scalar', 'string'])\n",
    "table_logger.add(sim, quantities=['timestep', 'tps', 'seed', 'walltime'])\n",
    "output_file = open(f'./data/output_{fname}.txt', mode='a', newline='\\n')\n",
    "table = hoomd.write.Table(output=output_file,\n",
    "                          trigger=hoomd.trigger.Periodic(period=int(log_period)),\n",
    "                          logger=table_logger)\n",
    "sim.operations.writers.append(table)\n",
    "\n",
    "logger = hoomd.logging.Logger()\n",
    "logger.add(alj, quantities=['type_shapes', 'energy'])\n",
    "logger.add(integrator, quantities=['linear_momentum'])\n",
    "logger.add(thermodynamic_properties, quantities=['kinetic_temperature', 'pressure',\n",
    "                                                 'kinetic_energy', 'translational_kinetic_energy',\n",
    "                                                 'rotational_kinetic_energy', 'potential_energy',\n",
    "                                                 'volume'])"
   ]
  },
  {
   "cell_type": "code",
   "execution_count": 8,
   "id": "f9b6a2cd-e79a-456a-8ef5-f4ada2c732b3",
   "metadata": {},
   "outputs": [
    {
     "name": "stdout",
     "output_type": "stream",
     "text": [
      "Reading history ....\n",
      "Len of initial cv history: 400\n",
      "Len of initial height history: 400\n",
      "last 5 element in initial cv array: [0.35514417 0.34981233 0.34818953 0.31037492 0.31431228]\n",
      "last 5 element in inital height array: [0.30564048 0.31641391 0.31713213 0.52486047 0.47898268]\n",
      "\n"
     ]
    }
   ],
   "source": [
    "########### Turn on WTmetaD ###########\n",
    "\n",
    "cv_min = 0.0\n",
    "cv_max = 0.5\n",
    "bins = 30\n",
    "init_height = 1.0\n",
    "sigma = 0.01\n",
    "gamma = 20\n",
    "mc_stride = 100\n",
    "metad_stride = mc_stride * 500\n",
    "mode = 'steinhardt'\n",
    "\n",
    "if mode == 'steinhardt':\n",
    "    colvar_params = dict(r_max=2.0, l=6, average=False, wl=False, weighted=False, wl_normalize=False)\n",
    "\n",
    "extra_colvar_mode = 'nematic'\n",
    "extra_colvar_params = dict(director=[0, 0, 1])\n",
    "\n",
    "hmcmetad_action = hMCMetaD(\n",
    "    sim=sim,\n",
    "    colvar_mode=mode,\n",
    "    colvar_params=colvar_params,\n",
    "    kT=kT,\n",
    "    init_height=init_height,\n",
    "    mc_stride=mc_stride,\n",
    "    metad_stride=metad_stride,\n",
    "    sigma=sigma,\n",
    "    gamma=gamma,\n",
    "    cv_min=cv_min,\n",
    "    cv_max=cv_max,\n",
    "    bins=bins,\n",
    "    seed=seed,\n",
    "    bias_mode=True,\n",
    "    restart=True,\n",
    "    restart_fn='./data/WTMetaD_history.txt',\n",
    "    extra_colvar_mode=extra_colvar_mode,\n",
    "    extra_colvar_params=extra_colvar_params,\n",
    "    verbose=True\n",
    ")\n",
    "\n",
    "op = hoomd.update.CustomUpdater(action=hmcmetad_action, trigger=1)\n",
    "sim.operations += op\n",
    "sim.operations += hmcmetad_action.get_writer('./data/WTMetaD_log.hdf5')"
   ]
  },
  {
   "cell_type": "code",
   "execution_count": 9,
   "id": "213fafbd-7bae-455e-ae26-4f3565b6673b",
   "metadata": {},
   "outputs": [
    {
     "name": "stdout",
     "output_type": "stream",
     "text": [
      "Saving status before exiting ...\n",
      "PE of the current configuration: 164.993742382301\n",
      "PE of the current configuration: 164.993742382301\n",
      "current bias pot: 9.162314600667015\n",
      "current cv: 0.2967943847179413\n",
      "last 5 element in cv array: [0.35514417 0.34981233 0.34818953 0.31037492 0.31431228]\n",
      "last 5 element in height array: [0.30564048 0.31641391 0.31713213 0.52486047 0.47898268]\n",
      "Len of cv array: 400\n",
      "Len of height array: 400\n",
      "\n"
     ]
    }
   ],
   "source": [
    "dump_period = metad_stride\n",
    "traj_writer = hoomd.write.GSD(filename=f'./data/traj_{fname}.gsd',\n",
    "                              trigger=hoomd.trigger.Periodic(int(dump_period), phase=1),\n",
    "                              mode='ab',\n",
    "                              logger=logger,\n",
    "                              dynamic=['property', 'momentum'])\n",
    "sim.operations.writers.append(traj_writer)\n",
    "\n",
    "total_timestep = run_params['N_random'] + run_params['N_compress'] + run_params['N_eq']\n",
    "while sim.timestep < total_timestep:\n",
    "    step_size = int(total_timestep - sim.timestep)\n",
    "    sim.run(min(1e4, step_size))\n",
    "    hmcmetad_action.save_history('./data/WTMetaD_history.txt')\n",
    "\n",
    "    for writer in sim.operations.writers:\n",
    "        if hasattr(writer, \"flush\"):\n",
    "            writer.flush()\n",
    "\n",
    "hmcmetad_action.save_configuration(config_fn='./data/restart_{fname}.gsd', logger=logger)"
   ]
  },
  {
   "cell_type": "code",
   "execution_count": null,
   "id": "1a86d469-9555-4207-8827-f68bd022518b",
   "metadata": {},
   "outputs": [],
   "source": []
  }
 ],
 "metadata": {
  "kernelspec": {
   "display_name": "Python 3 (ipykernel)",
   "language": "python",
   "name": "python3"
  },
  "language_info": {
   "codemirror_mode": {
    "name": "ipython",
    "version": 3
   },
   "file_extension": ".py",
   "mimetype": "text/x-python",
   "name": "python",
   "nbconvert_exporter": "python",
   "pygments_lexer": "ipython3",
   "version": "3.11.8"
  }
 },
 "nbformat": 4,
 "nbformat_minor": 5
}
