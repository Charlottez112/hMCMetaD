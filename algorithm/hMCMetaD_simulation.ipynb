{
 "cells": [
  {
   "cell_type": "code",
   "execution_count": 1,
   "id": "c3768272-8b7d-4688-b2a0-6f80999b8b18",
   "metadata": {},
   "outputs": [],
   "source": [
    "import math\n",
    "import itertools\n",
    "import numpy as np\n",
    "import time\n",
    "\n",
    "import hoomd\n",
    "from hoomd import md\n",
    "import gsd.hoomd"
   ]
  },
  {
   "cell_type": "code",
   "execution_count": 2,
   "id": "199b50db-697e-47bd-9319-4e3c2709ba32",
   "metadata": {},
   "outputs": [],
   "source": [
    "from MyCustomForce import MyCustomForce\n",
    "from hmcmetad import hMCMetaD"
   ]
  },
  {
   "cell_type": "code",
   "execution_count": 3,
   "id": "03e73082-92b0-4a25-b02f-f5c0ae2f4cff",
   "metadata": {},
   "outputs": [],
   "source": [
    "frame = gsd.hoomd.Frame()\n",
    "frame.particles.types = ['A']\n",
    "frame.particles.N = 1\n",
    "frame.particles.typeid = [0]\n",
    "frame.particles.position = [[1,0,0]]\n",
    "L = 5\n",
    "frame.configuration.box = [L, L, 0, 0, 0, 0]\n",
    "\n",
    "with gsd.hoomd.open('./data/biased/lattice.gsd', mode='w') as f:\n",
    "    f.append(frame)"
   ]
  },
  {
   "cell_type": "code",
   "execution_count": 4,
   "id": "e18f569b-252f-401e-98bc-b97ac3137ef7",
   "metadata": {},
   "outputs": [],
   "source": [
    "cpu = hoomd.device.CPU(notice_level=2)\n",
    "seed = np.random.randint(np.random.randint(10000))\n",
    "\n",
    "sim = hoomd.Simulation(device=cpu, seed=seed)\n",
    "sim.create_state_from_gsd(filename='./data/biased/lattice.gsd')\n",
    "\n",
    "dt = 0.001\n",
    "kT = 0.2\n",
    "custom = MyCustomForce()\n",
    "sim.state.thermalize_particle_momenta(filter=hoomd.filter.All(), \n",
    "                              kT=kT)\n",
    "\n",
    "nl = md.nlist.Cell(buffer=0.4)\n",
    "\n",
    "thermostats = md.methods.Brownian(filter=hoomd.filter.All(), \n",
    "                                    kT=kT)\n",
    "\n",
    "thermostats.tally_reservoir_energy = True\n",
    "thermostats.gamma.default = 1.0\n",
    "thermostats.gamma_r.default = [1.0, 1.0, 1.0]\n",
    "\n",
    "integrator = md.Integrator(dt=dt, \n",
    "                                methods=[thermostats],\n",
    "                                forces=[custom])\n",
    "\n",
    "thermodynamic_properties = md.compute.ThermodynamicQuantities(filter=hoomd.filter.All())\n",
    "sim.operations.integrator = integrator\n",
    "sim.operations.computes.append(thermodynamic_properties)"
   ]
  },
  {
   "cell_type": "code",
   "execution_count": 5,
   "id": "dd3f4720-410f-49b0-9f22-0603c5e4807d",
   "metadata": {},
   "outputs": [],
   "source": [
    "logger = hoomd.logging.Logger()\n",
    "logger.add(thermodynamic_properties)\n",
    "\n",
    "traj_writer = hoomd.write.GSD(filename='./data/biased/biased_sim_traj.gsd',\n",
    "                            trigger=hoomd.trigger.Periodic(100),\n",
    "                            logger=logger,\n",
    "                            mode='wb')\n",
    "\n",
    "sim.operations.writers.append(traj_writer)"
   ]
  },
  {
   "cell_type": "code",
   "execution_count": 6,
   "id": "03178cdb-c54b-4167-8338-7134e14cb543",
   "metadata": {},
   "outputs": [],
   "source": [
    "init_height = 0.1\n",
    "mc_stride = 10\n",
    "metad_stride = 1000\n",
    "sigma = 0.08\n",
    "gamma = 20\n",
    "\n",
    "hmcmetad_action = hMCMetaD(\n",
    "    sim=sim,\n",
    "    colvar_mode='double_well_cv',\n",
    "    colvar_params={},\n",
    "    kT=kT,\n",
    "    init_height=init_height,\n",
    "    mc_stride=mc_stride,\n",
    "    metad_stride=metad_stride,\n",
    "    sigma=sigma,\n",
    "    gamma=gamma,\n",
    "    cv_min=-2.5,\n",
    "    cv_max=2.5,\n",
    "    bins=30,\n",
    "    seed=seed\n",
    ")\n",
    "\n",
    "history_fn = './data/biased/WTMetaD_his.txt'\n",
    "data_fn = './data/biased/WTMetaD_log.txt'"
   ]
  },
  {
   "cell_type": "code",
   "execution_count": 7,
   "id": "100df6c2-bee6-4aee-b4d4-912d2d33e305",
   "metadata": {},
   "outputs": [
    {
     "name": "stdout",
     "output_type": "stream",
     "text": [
      "Biased simulation ran for 891.5396239757538 s\n"
     ]
    }
   ],
   "source": [
    "start_time = time.time()\n",
    "\n",
    "for _ in range(10):\n",
    "    hmcmetad_action.run(2e5, history_fn=history_fn, data_fn=data_fn)\n",
    "    traj_writer.flush()\n",
    "\n",
    "end_time = time.time()\n",
    "print(f'Biased simulation ran for {end_time - start_time} s')"
   ]
  },
  {
   "cell_type": "code",
   "execution_count": null,
   "id": "c216f1cb-aa3c-46f7-93bf-094beaa106a5",
   "metadata": {},
   "outputs": [],
   "source": []
  }
 ],
 "metadata": {
  "kernelspec": {
   "display_name": "Python 3 (ipykernel)",
   "language": "python",
   "name": "python3"
  },
  "language_info": {
   "codemirror_mode": {
    "name": "ipython",
    "version": 3
   },
   "file_extension": ".py",
   "mimetype": "text/x-python",
   "name": "python",
   "nbconvert_exporter": "python",
   "pygments_lexer": "ipython3",
   "version": "3.11.8"
  }
 },
 "nbformat": 4,
 "nbformat_minor": 5
}
