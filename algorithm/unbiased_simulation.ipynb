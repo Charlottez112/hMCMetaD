{
 "cells": [
  {
   "cell_type": "code",
   "execution_count": 1,
   "id": "54750f66-c1cc-46fd-8a60-bba27e0ffe47",
   "metadata": {},
   "outputs": [],
   "source": [
    "import numpy as np\n",
    "import time\n",
    "\n",
    "import hoomd\n",
    "from hoomd import md\n",
    "import gsd.hoomd\n",
    "\n",
    "from MyCustomForce import MyCustomForce"
   ]
  },
  {
   "cell_type": "code",
   "execution_count": 2,
   "id": "f8abddcb-98aa-4e2b-a436-b631aa88f9b1",
   "metadata": {},
   "outputs": [],
   "source": [
    "frame = gsd.hoomd.Frame()\n",
    "frame.particles.types = ['A']\n",
    "frame.particles.N = 1\n",
    "frame.particles.typeid = [0]\n",
    "frame.particles.position = [[1,0,0]]\n",
    "L = 5\n",
    "frame.configuration.box = [L, L, 0, 0, 0, 0]\n",
    "\n",
    "with gsd.hoomd.open('./data/unbiased/lattice.gsd', mode='w') as f:\n",
    "    f.append(frame)"
   ]
  },
  {
   "cell_type": "code",
   "execution_count": 3,
   "id": "3256bf9e-48d2-4244-922b-696a18bca972",
   "metadata": {},
   "outputs": [],
   "source": [
    "seed = np.random.randint(np.random.randint(10000))\n",
    "cpu = hoomd.device.CPU(notice_level=2)\n",
    "sim = hoomd.Simulation(device=cpu, seed=seed)\n",
    "sim.create_state_from_gsd(filename='./data/unbiased/lattice.gsd')\n",
    "\n",
    "dt = 0.001\n",
    "kT = 0.2\n",
    "custom = MyCustomForce()\n",
    "sim.state.thermalize_particle_momenta(filter=hoomd.filter.All(), \n",
    "                              kT=kT)\n",
    "\n",
    "nl = md.nlist.Cell(buffer=0.4)\n",
    "\n",
    "thermostats = md.methods.Brownian(filter=hoomd.filter.All(), \n",
    "                                    kT=kT)\n",
    "\n",
    "thermostats.tally_reservoir_energy = True\n",
    "thermostats.gamma.default = 1.0\n",
    "thermostats.gamma_r.default = [1.0, 1.0, 1.0]\n",
    "\n",
    "integrator = md.Integrator(dt=dt, methods=[thermostats], forces=[custom])\n",
    "\n",
    "thermodynamic_properties = md.compute.ThermodynamicQuantities(filter=hoomd.filter.All())\n",
    "sim.operations.integrator = integrator\n",
    "sim.operations.computes.append(thermodynamic_properties)"
   ]
  },
  {
   "cell_type": "code",
   "execution_count": 4,
   "id": "ddab6bab-99e7-4cec-83a5-fc82aeb14627",
   "metadata": {},
   "outputs": [
    {
     "name": "stdout",
     "output_type": "stream",
     "text": [
      "Simulation ran for 99.14567804336548 s\n"
     ]
    }
   ],
   "source": [
    "logger = hoomd.logging.Logger()\n",
    "logger.add(thermodynamic_properties)\n",
    "\n",
    "traj_writer = hoomd.write.GSD(filename=f'./data/unbiased/unbiased_sim_traj.gsd',\n",
    "                             trigger=hoomd.trigger.Periodic(100),\n",
    "                             logger=logger,\n",
    "                             mode='wb')\n",
    "\n",
    "sim.operations.writers.append(traj_writer)\n",
    "\n",
    "start_time = time.time()\n",
    "\n",
    "for i in range(1000):\n",
    "    sim.run(1000)\n",
    "    traj_writer.flush()\n",
    "\n",
    "end_time = time.time()\n",
    "print(f'Simulation ran for {end_time - start_time} s')"
   ]
  },
  {
   "cell_type": "code",
   "execution_count": null,
   "id": "e97b211c-e563-430d-8ba5-fcce7ee0d373",
   "metadata": {},
   "outputs": [],
   "source": []
  }
 ],
 "metadata": {
  "kernelspec": {
   "display_name": "Python 3 (ipykernel)",
   "language": "python",
   "name": "python3"
  },
  "language_info": {
   "codemirror_mode": {
    "name": "ipython",
    "version": 3
   },
   "file_extension": ".py",
   "mimetype": "text/x-python",
   "name": "python",
   "nbconvert_exporter": "python",
   "pygments_lexer": "ipython3",
   "version": "3.11.8"
  }
 },
 "nbformat": 4,
 "nbformat_minor": 5
}
